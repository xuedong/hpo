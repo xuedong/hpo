{
 "cells": [
  {
   "cell_type": "code",
   "execution_count": 1,
   "metadata": {
    "collapsed": true,
    "pycharm": {
     "is_executing": false
    }
   },
   "outputs": [
    {
     "name": "stdout",
     "text": [
      "Using PyTorch version: 1.1.0  Device: cpu\n/home/xuedong/Documents/xuedong/phd/work/code/hpo/test/pytorch\n"
     ],
     "output_type": "stream"
    }
   ],
   "source": [
    "# Dependencies\n",
    "\n",
    "from __future__ import print_function\n",
    "\n",
    "import torch\n",
    "import torch.nn as nn\n",
    "import torch.nn.functional as nnfunc\n",
    "from torchvision import datasets, transforms\n",
    "\n",
    "import numpy as np\n",
    "import matplotlib.pyplot as plt\n",
    "import seaborn as sns\n",
    "\n",
    "## activate seaborn\n",
    "sns.set()\n",
    "\n",
    "## check if GPU is available\n",
    "if torch.cuda.is_available():\n",
    "    device = torch.device('cuda')\n",
    "else:\n",
    "    device = torch.device('cpu')\n",
    "    \n",
    "print('Using PyTorch version:', torch.__version__, ' Device:', device)"
   ]
  },
  {
   "cell_type": "code",
   "execution_count": 3,
   "outputs": [
    {
     "name": "stderr",
     "text": [
      "\r0it [00:00, ?it/s]",
      "\r  0%|          | 0/9912422 [00:00<?, ?it/s]",
      "\r  0%|          | 16384/9912422 [00:00<01:15, 131782.08it/s]",
      "\r  1%|          | 98304/9912422 [00:00<00:59, 166235.63it/s]",
      "\r  4%|▍         | 425984/9912422 [00:00<00:41, 228096.96it/s]",
      "\r 14%|█▍        | 1400832/9912422 [00:00<00:26, 322617.12it/s]",
      "\r 26%|██▋       | 2613248/9912422 [00:00<00:16, 455679.74it/s]",
      "\r 45%|████▍     | 4456448/9912422 [00:01<00:08, 637857.15it/s]",
      "\r 77%|███████▋  | 7585792/9912422 [00:01<00:02, 897990.05it/s]",
      "\r 97%|█████████▋| 9584640/9912422 [00:01<00:00, 1258597.37it/s]",
      "\r9920512it [00:01, 7165657.99it/s]                             ",
      "\n",
      "\r0it [00:00, ?it/s]",
      "\r  0%|          | 0/28881 [00:00<?, ?it/s]",
      "\r32768it [00:00, 110633.73it/s]           ",
      "\n\r0it [00:00, ?it/s]",
      "\r  0%|          | 0/1648877 [00:00<?, ?it/s]",
      "\r  1%|          | 16384/1648877 [00:00<00:12, 131024.77it/s]",
      "\r  6%|▌         | 98304/1648877 [00:00<00:09, 165301.36it/s]",
      "\r 24%|██▍       | 393216/1648877 [00:00<00:05, 226029.99it/s]",
      "\r 79%|███████▉  | 1302528/1648877 [00:00<00:01, 319495.48it/s]",
      "\r1654784it [00:00, 1826341.88it/s]                            ",
      "\n",
      "\r0it [00:00, ?it/s]",
      "\r  0%|          | 0/4542 [00:00<?, ?it/s]",
      "\r8192it [00:00, 42021.06it/s]            ",
      "\n"
     ],
     "output_type": "stream"
    },
    {
     "name": "stdout",
     "text": [
      "Downloading http://yann.lecun.com/exdb/mnist/train-images-idx3-ubyte.gz to ../../data/MNIST/raw/train-images-idx3-ubyte.gz\n",
      "Extracting ../../data/MNIST/raw/train-images-idx3-ubyte.gz\n",
      "Downloading http://yann.lecun.com/exdb/mnist/train-labels-idx1-ubyte.gz to ../../data/MNIST/raw/train-labels-idx1-ubyte.gz\n",
      "Extracting ../../data/MNIST/raw/train-labels-idx1-ubyte.gz\nDownloading http://yann.lecun.com/exdb/mnist/t10k-images-idx3-ubyte.gz to ../../data/MNIST/raw/t10k-images-idx3-ubyte.gz\n",
      "Extracting ../../data/MNIST/raw/t10k-images-idx3-ubyte.gz\nDownloading http://yann.lecun.com/exdb/mnist/t10k-labels-idx1-ubyte.gz to ../../data/MNIST/raw/t10k-labels-idx1-ubyte.gz\n",
      "Extracting ../../data/MNIST/raw/t10k-labels-idx1-ubyte.gz\nProcessing...\nDone!\n"
     ],
     "output_type": "stream"
    }
   ],
   "source": [
    "# Loading data\n",
    "\n",
    "train_dataset = datasets.MNIST('../../data',\n",
    "                               train=True,\n",
    "                               download=True,\n",
    "                               transform=transforms.ToTensor)\n",
    "\n",
    "valid_dataset = datasets.MNIST('../../data',\n",
    "                               train=False,\n",
    "                               transform=transforms.ToTensor)"
   ],
   "metadata": {
    "collapsed": false,
    "pycharm": {
     "name": "#%%\n",
     "is_executing": false
    }
   }
  }
 ],
 "metadata": {
  "language_info": {
   "codemirror_mode": {
    "name": "ipython",
    "version": 2
   },
   "file_extension": ".py",
   "mimetype": "text/x-python",
   "name": "python",
   "nbconvert_exporter": "python",
   "pygments_lexer": "ipython2",
   "version": "2.7.6"
  },
  "kernelspec": {
   "name": "python3",
   "language": "python",
   "display_name": "Python 3"
  },
  "pycharm": {
   "stem_cell": {
    "cell_type": "raw",
    "source": [],
    "metadata": {
     "collapsed": false
    }
   }
  }
 },
 "nbformat": 4,
 "nbformat_minor": 0
}